{
  "nbformat": 4,
  "nbformat_minor": 0,
  "metadata": {
    "colab": {
      "provenance": [],
      "authorship_tag": "ABX9TyPtxGs3FZqurb9f7JyT5VN0",
      "include_colab_link": true
    },
    "kernelspec": {
      "name": "python3",
      "display_name": "Python 3"
    },
    "language_info": {
      "name": "python"
    }
  },
  "cells": [
    {
      "cell_type": "markdown",
      "metadata": {
        "id": "view-in-github",
        "colab_type": "text"
      },
      "source": [
        "<a href=\"https://colab.research.google.com/github/ganeshdasrla/Assignment/blob/master/OTP_Verification_System.ipynb\" target=\"_parent\"><img src=\"https://colab.research.google.com/assets/colab-badge.svg\" alt=\"Open In Colab\"/></a>"
      ]
    },
    {
      "cell_type": "markdown",
      "source": [
        "##OTP Verification System"
      ],
      "metadata": {
        "id": "RYb96reRZ8dI"
      }
    },
    {
      "cell_type": "markdown",
      "source": [
        "Import required libraries"
      ],
      "metadata": {
        "id": "t55yu5ESbgXe"
      }
    },
    {
      "cell_type": "markdown",
      "source": [
        "1. Implement a function to generate a 6-digit OTP randomly."
      ],
      "metadata": {
        "id": "Drfm3nNoa0f7"
      }
    },
    {
      "cell_type": "code",
      "source": [
        "import re\n",
        "import random\n",
        "import smtplib\n",
        "import time\n",
        "import tkinter as tk\n",
        "import tkinter.simpledialog\n",
        "from email.mime.text import MIMEText\n",
        "from email.mime.multipart import MIMEMultipart"
      ],
      "metadata": {
        "id": "TuB9H_SPbxQl"
      },
      "execution_count": 44,
      "outputs": []
    },
    {
      "cell_type": "code",
      "source": [
        "# Global dictionary to store OTPs\n",
        "otp_store = {}"
      ],
      "metadata": {
        "id": "aYX433pIgovo"
      },
      "execution_count": 27,
      "outputs": []
    },
    {
      "cell_type": "code",
      "execution_count": 28,
      "metadata": {
        "id": "4VmadpUTZeNt"
      },
      "outputs": [],
      "source": [
        "def generate_otp(length=6):\n",
        "    otp = \"\"\n",
        "    for i in range(length):\n",
        "      otp += str(random.randint(0,9))\n",
        "    return int(otp)"
      ]
    },
    {
      "cell_type": "code",
      "source": [
        "generate_otp()"
      ],
      "metadata": {
        "colab": {
          "base_uri": "https://localhost:8080/"
        },
        "id": "SdVX5Lzgb3HA",
        "outputId": "1071c1b3-f212-4f14-f16e-bc4a684d0bb6"
      },
      "execution_count": 29,
      "outputs": [
        {
          "output_type": "execute_result",
          "data": {
            "text/plain": [
              "915179"
            ]
          },
          "metadata": {},
          "execution_count": 29
        }
      ]
    },
    {
      "cell_type": "markdown",
      "source": [
        "2. Develop a function to simulate sending the OTP to the user's email address."
      ],
      "metadata": {
        "id": "In6H3qDAcC3Q"
      }
    },
    {
      "cell_type": "code",
      "source": [
        "def send_otp_via_email(recipent_email, otp):\n",
        "  sender_email = input(\"Enter your email address: \")\n",
        "  sender_password = get_email_password(sender_email)\n",
        "\n",
        "  subject = \"Your OTP for verification\"\n",
        "  body = f\"Your OTP is: {otp}\"\n",
        "\n",
        "  try:\n",
        "    msg = MIMEMultipart()\n",
        "    msg['From'] = sender_email\n",
        "    msg['To'] = recipent_email\n",
        "    msg['Subject'] = subject\n",
        "    msg.attach(MIMEText(body, 'plain'))\n",
        "\n",
        "    server = smtplib.SMTP(host='smtp.gmail.com', port=587)\n",
        "    server.starttls()\n",
        "    server.Login(sender_email, sender_password)\n",
        "    server.sennd_message(msg)\n",
        "    server.quit()\n",
        "    print(\"OTP sent successfully\")\n",
        "  except smtplib.SMTPException as e:\n",
        "    print(\"Failed to send OTP:\", e)"
      ],
      "metadata": {
        "id": "Tcq08bz4fTR6"
      },
      "execution_count": 30,
      "outputs": []
    },
    {
      "cell_type": "code",
      "source": [
        "# Get sender's email password\n",
        "def get_email_password(email):\n",
        "  \"\"\"Prompt user for email password.\"\"\"\n",
        "  root = tk.Tk()\n",
        "  root.withdraw()\n",
        "\n",
        "  password = simpledialog.askstring(\"Email Verification\", f\"Enter password for {email}: \")\n",
        "  root.destroy()\n",
        "  return password"
      ],
      "metadata": {
        "id": "YPHdWMiJfVnp"
      },
      "execution_count": 31,
      "outputs": []
    },
    {
      "cell_type": "code",
      "source": [
        "def store_otp(recipient, otp, vaild_duration=300):\n",
        "  \"\"\"Store OTP along with recipient email and expiry time.\"\"\"\n",
        "  expiry_time = time.time() + vaild_duration\n",
        "  otp_store[recipient] = {'otp': otp, 'expiry': expiry_time}"
      ],
      "metadata": {
        "id": "Txat273-gzzf"
      },
      "execution_count": 32,
      "outputs": []
    },
    {
      "cell_type": "markdown",
      "source": [
        "3. Create a function to prompt the user to enter the OTP received in their email."
      ],
      "metadata": {
        "id": "4vDLEOAHj1HQ"
      }
    },
    {
      "cell_type": "code",
      "source": [
        "def prompt_user_for_otp():\n",
        "  \"\"\"Prompt the user to enter the OTP received.\"\"\"\n",
        "  root = tk.Tk()\n",
        "  root.withdraw()\n",
        "\n",
        "  otp = simpledialog.askstring(\"OTP Verification\", \"Enter the OTP received:\")\n",
        "  root.destroy()\n",
        "  return otp"
      ],
      "metadata": {
        "id": "PXQLd02xhgG5"
      },
      "execution_count": 33,
      "outputs": []
    },
    {
      "cell_type": "markdown",
      "source": [
        "4. Implement a function to verify if the entered OTP matches the generated OTP."
      ],
      "metadata": {
        "id": "7FQr7X_Nn9OJ"
      }
    },
    {
      "cell_type": "code",
      "source": [
        "def verify_otp(recipient, otp_input):\n",
        "  \"\"\"Verify if the entered OTP matches the generated OTP.\"\"\"\n",
        "  if recipient in otp_store:\n",
        "    stored_otp = otp_store[recipient]\n",
        "    if time.time() < stored_otp['expiry']:\n",
        "      if otp_input == stored_otp['otp']:\n",
        "        return \"OTP verified\"\n",
        "      else:\n",
        "        return \"Invalid OTP\"\n",
        "    else:\n",
        "      return \"OTP has expired\"\n",
        "  else:\n",
        "    return \"Recipient not found\""
      ],
      "metadata": {
        "id": "hBKVEZnon8iX"
      },
      "execution_count": 34,
      "outputs": []
    },
    {
      "cell_type": "markdown",
      "source": [
        "5. Allow the user to retry OTP entry in case of incorrect input."
      ],
      "metadata": {
        "id": "1lULaT1ozWLs"
      }
    },
    {
      "cell_type": "code",
      "source": [
        "def verify_and_prompt(email):\n",
        "  \"\"\"Generate OTP, send it via email, prompt user for OTP, and verify.\"\"\"\n",
        "  otp = generate_otp()\n",
        "  send_otp_via_email(email, otp)\n",
        "  store_otp(email, otp)\n",
        "\n",
        "  max_attempts = 3\n",
        "  attempts = 0\n",
        "\n",
        "  while attempts < max_attempts:\n",
        "    entered_otp = prompt_user_for_otp()\n",
        "    if entered_otp is None:\n",
        "      return\n",
        "\n",
        "    verification_result = verify_otp(email, entered_otp)\n",
        "    if verification_result == \"OTP verified\":\n",
        "      messagebox.showinfo(\"OTP Verification\", \"OTP verified successfully!\")\n",
        "      return\n",
        "    else:\n",
        "      attempts += 1\n",
        "      if attempts < max_attempts:\n",
        "        messagebox.showerror(\"OTP Veification\", f\"Invalid OTP. Attempts left: {max_attempts - attempts}\")\n",
        "      else:\n",
        "        messagebox.showerror(\"OTP Verification\", \"Maximum attempts reached. OTP verification faild, Please try again later.\")"
      ],
      "metadata": {
        "id": "kmLDvPg3zU9m"
      },
      "execution_count": 35,
      "outputs": []
    },
    {
      "cell_type": "code",
      "source": [
        "# RegEx for validating email address\n",
        "email_regex = r'^[a-zA-Z0-9_.+-]+@[a-zA-Z0-9-]+\\.[a-zA-Z0-9-.]+$'"
      ],
      "metadata": {
        "id": "nwSu5ax_2XKu"
      },
      "execution_count": 37,
      "outputs": []
    },
    {
      "cell_type": "code",
      "source": [
        "def validate_email(email):\n",
        "  if re.match(email_regex, email):\n",
        "    return True\n",
        "  else:\n",
        "    return False"
      ],
      "metadata": {
        "id": "vmJ9Jlib2nhD"
      },
      "execution_count": 38,
      "outputs": []
    },
    {
      "cell_type": "code",
      "source": [
        "def main():\n",
        "  root = tk.Tk() # create main window\n",
        "  #root.iconify() # minimize main window\n",
        "  root.withdraw() # hide main window\n",
        "\n",
        "  email = tkinter.simpledialog.askstring(\"Email Verification\", \"Enter your email address:\")\n",
        "  root.destroy()\n",
        "  if validate_email(email):\n",
        "    verify_and_prompt(email)\n",
        "\n",
        "if __name__ == \"__main__\":\n",
        "  main()"
      ],
      "metadata": {
        "colab": {
          "base_uri": "https://localhost:8080/",
          "height": 321
        },
        "id": "BywAq3T71dIF",
        "outputId": "c4baa68a-342c-4f5e-9dbd-5fbb80cba79f"
      },
      "execution_count": 48,
      "outputs": [
        {
          "output_type": "error",
          "ename": "TclError",
          "evalue": "no display name and no $DISPLAY environment variable",
          "traceback": [
            "\u001b[0;31m---------------------------------------------------------------------------\u001b[0m",
            "\u001b[0;31mTclError\u001b[0m                                  Traceback (most recent call last)",
            "\u001b[0;32m<ipython-input-48-a1051da12012>\u001b[0m in \u001b[0;36m<cell line: 14>\u001b[0;34m()\u001b[0m\n\u001b[1;32m     13\u001b[0m \u001b[0;34m\u001b[0m\u001b[0m\n\u001b[1;32m     14\u001b[0m \u001b[0;32mif\u001b[0m \u001b[0m__name__\u001b[0m \u001b[0;34m==\u001b[0m \u001b[0;34m\"__main__\"\u001b[0m\u001b[0;34m:\u001b[0m\u001b[0;34m\u001b[0m\u001b[0;34m\u001b[0m\u001b[0m\n\u001b[0;32m---> 15\u001b[0;31m   \u001b[0mmain\u001b[0m\u001b[0;34m(\u001b[0m\u001b[0;34m)\u001b[0m\u001b[0;34m\u001b[0m\u001b[0;34m\u001b[0m\u001b[0m\n\u001b[0m",
            "\u001b[0;32m<ipython-input-48-a1051da12012>\u001b[0m in \u001b[0;36mmain\u001b[0;34m()\u001b[0m\n\u001b[1;32m      3\u001b[0m \u001b[0;34m\u001b[0m\u001b[0m\n\u001b[1;32m      4\u001b[0m \u001b[0;32mdef\u001b[0m \u001b[0mmain\u001b[0m\u001b[0;34m(\u001b[0m\u001b[0;34m)\u001b[0m\u001b[0;34m:\u001b[0m\u001b[0;34m\u001b[0m\u001b[0;34m\u001b[0m\u001b[0m\n\u001b[0;32m----> 5\u001b[0;31m   \u001b[0mroot\u001b[0m \u001b[0;34m=\u001b[0m \u001b[0mtk\u001b[0m\u001b[0;34m.\u001b[0m\u001b[0mTk\u001b[0m\u001b[0;34m(\u001b[0m\u001b[0;34m)\u001b[0m \u001b[0;31m# create main window\u001b[0m\u001b[0;34m\u001b[0m\u001b[0;34m\u001b[0m\u001b[0m\n\u001b[0m\u001b[1;32m      6\u001b[0m   \u001b[0;31m#root.iconify() # minimize main window\u001b[0m\u001b[0;34m\u001b[0m\u001b[0;34m\u001b[0m\u001b[0m\n\u001b[1;32m      7\u001b[0m   \u001b[0mroot\u001b[0m\u001b[0;34m.\u001b[0m\u001b[0mwithdraw\u001b[0m\u001b[0;34m(\u001b[0m\u001b[0;34m)\u001b[0m \u001b[0;31m# hide main window\u001b[0m\u001b[0;34m\u001b[0m\u001b[0;34m\u001b[0m\u001b[0m\n",
            "\u001b[0;32m/usr/lib/python3.10/tkinter/__init__.py\u001b[0m in \u001b[0;36m__init__\u001b[0;34m(self, screenName, baseName, className, useTk, sync, use)\u001b[0m\n\u001b[1;32m   2297\u001b[0m                 \u001b[0mbaseName\u001b[0m \u001b[0;34m=\u001b[0m \u001b[0mbaseName\u001b[0m \u001b[0;34m+\u001b[0m \u001b[0mext\u001b[0m\u001b[0;34m\u001b[0m\u001b[0;34m\u001b[0m\u001b[0m\n\u001b[1;32m   2298\u001b[0m         \u001b[0minteractive\u001b[0m \u001b[0;34m=\u001b[0m \u001b[0;32mFalse\u001b[0m\u001b[0;34m\u001b[0m\u001b[0;34m\u001b[0m\u001b[0m\n\u001b[0;32m-> 2299\u001b[0;31m         \u001b[0mself\u001b[0m\u001b[0;34m.\u001b[0m\u001b[0mtk\u001b[0m \u001b[0;34m=\u001b[0m \u001b[0m_tkinter\u001b[0m\u001b[0;34m.\u001b[0m\u001b[0mcreate\u001b[0m\u001b[0;34m(\u001b[0m\u001b[0mscreenName\u001b[0m\u001b[0;34m,\u001b[0m \u001b[0mbaseName\u001b[0m\u001b[0;34m,\u001b[0m \u001b[0mclassName\u001b[0m\u001b[0;34m,\u001b[0m \u001b[0minteractive\u001b[0m\u001b[0;34m,\u001b[0m \u001b[0mwantobjects\u001b[0m\u001b[0;34m,\u001b[0m \u001b[0museTk\u001b[0m\u001b[0;34m,\u001b[0m \u001b[0msync\u001b[0m\u001b[0;34m,\u001b[0m \u001b[0muse\u001b[0m\u001b[0;34m)\u001b[0m\u001b[0;34m\u001b[0m\u001b[0;34m\u001b[0m\u001b[0m\n\u001b[0m\u001b[1;32m   2300\u001b[0m         \u001b[0;32mif\u001b[0m \u001b[0museTk\u001b[0m\u001b[0;34m:\u001b[0m\u001b[0;34m\u001b[0m\u001b[0;34m\u001b[0m\u001b[0m\n\u001b[1;32m   2301\u001b[0m             \u001b[0mself\u001b[0m\u001b[0;34m.\u001b[0m\u001b[0m_loadtk\u001b[0m\u001b[0;34m(\u001b[0m\u001b[0;34m)\u001b[0m\u001b[0;34m\u001b[0m\u001b[0;34m\u001b[0m\u001b[0m\n",
            "\u001b[0;31mTclError\u001b[0m: no display name and no $DISPLAY environment variable"
          ]
        }
      ]
    }
  ]
}